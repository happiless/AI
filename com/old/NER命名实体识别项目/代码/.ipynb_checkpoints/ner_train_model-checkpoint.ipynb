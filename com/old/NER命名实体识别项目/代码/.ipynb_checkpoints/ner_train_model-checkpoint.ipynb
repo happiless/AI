{
 "cells": [
  {
   "cell_type": "code",
   "execution_count": 1,
   "metadata": {
    "collapsed": true
   },
   "outputs": [],
   "source": [
    "import gensim\n",
    "import os\n",
    "from gensim.models.word2vec import Word2Vec, PathLineSentences\n",
    "import numpy as np\n",
    "from sklearn.preprocessing import LabelEncoder\n",
    "from sklearn.preprocessing import OneHotEncoder\n",
    "import tensorflow as tf\n",
    "\n",
    "class OneHot(object):\n",
    "    def __init__(self):\n",
    "        self.__label_encoder = LabelEncoder()\n",
    "        self.__onehot_encodeder = OneHotEncoder()\n",
    "\n",
    "    def encode(self, target_list):\n",
    "        integer_encoded = self.__label_encoder.fit_transform(np.array(target_list))\n",
    "        integer_encoded = integer_encoded.reshape(len(integer_encoded), 1)\n",
    "        self.__onehot_encodeder = self.__onehot_encodeder.fit_transform(integer_encoded)\n",
    "        return self.__onehot_encodeder.toarray()\n",
    "\n",
    "    def encode_label(self, target_list):\n",
    "        integer_encoded = self.__label_encoder.fit_transform(np.array(target_list))\n",
    "        return integer_encoded\n",
    "\n",
    "    def decode(self, encoder_list):\n",
    "        return self.__label_encoder.inverse_transform([np.argmax(np.array(encoder_list), axis=1)])\n",
    "\n",
    "\n",
    "def read_file_to_corpus(folder):\n",
    "    corpus = []\n",
    "    for filename in os.listdir(folder):\n",
    "        with open(os.path.join(folder, filename), encoding=\"utf-8\") as f:\n",
    "            for line in f:\n",
    "                corpus.append(line.split())\n",
    "    return corpus\n",
    "\n",
    "\n",
    "\n",
    "def get_vec_model(model_path):\n",
    "    vec_model = gensim.models.Word2Vec.load(model_path)\n",
    "    return vec_model\n",
    "\n",
    "\n",
    "def get_train_list(source_folder, target_folder):\n",
    "    source_string = []\n",
    "    target_string = []\n",
    "    for filename in os.listdir(source_folder):\n",
    "        target_file_name = \"targetH_\" + \"_\".join(filename.split(\"_\")[1:])\n",
    "        if os.path.exists(os.path.join(target_folder, target_file_name)):\n",
    "            with open(os.path.join(source_folder, filename), encoding=\"utf-8\") as source:\n",
    "                with open(os.path.join(target_folder, target_file_name), encoding=\"utf-8\") as target:\n",
    "                    for source_line in source:\n",
    "                        for target_line in target:\n",
    "                            if len(source_line.split()) == len(target_line.split()):\n",
    "                                source_string.append(source_line.split())\n",
    "                                target_string.append(target_line.split())\n",
    "    return source_string, target_string"
   ]
  },
  {
   "cell_type": "code",
   "execution_count": 2,
   "metadata": {
    "collapsed": true
   },
   "outputs": [],
   "source": [
    "def get_train_feature(source_string, vec_model, max_sequence=1000):\n",
    "    index2word_set = set(vec_model.wv.index2word)\n",
    "    row_vector_list = []\n",
    "    for source_line in source_string:\n",
    "        i = 0\n",
    "        row_vector = []\n",
    "        for source_word in source_line:\n",
    "            if i < max_sequence:\n",
    "                if source_word in index2word_set:\n",
    "                    row_vector= np.append(row_vector, vec_model[source_word])\n",
    "                else:\n",
    "                    row_vector = np.append(row_vector, np.zeros(vec_model.trainables.layer1_size, dtype='float32'))\n",
    "            i += 1\n",
    "        if len(source_line) < max_sequence:\n",
    "            row_vector = np.append(row_vector,\n",
    "                                   np.zeros((vec_model.trainables.layer1_size * (max_sequence - len(source_line)),),\n",
    "                                            dtype='float32'))\n",
    "        print(row_vector.shape)\n",
    "        row_vector_list.append(row_vector)\n",
    "    print(np.array(row_vector_list).shape)\n",
    "    return np.matrix(row_vector_list)\n"
   ]
  },
  {
   "cell_type": "code",
   "execution_count": 3,
   "metadata": {
    "collapsed": true
   },
   "outputs": [],
   "source": [
    "def get_target_label(target_string,max_sequence=1000):\n",
    "    onehot_model = OneHot()\n",
    "    for i in range(0, len(target_string)):\n",
    "        if len(target_string[i]) < max_sequence:\n",
    "            target_string[i] = target_string[i].extend([\"O\"]*(max_sequence - len(target_string[i])))\n",
    "            if target_string[i] is None:\n",
    "                target_string[i] = [\"O\"]*max_sequence\n",
    "        else:\n",
    "            if target_string[i] is None:\n",
    "                target_string[i] = [\"O\"]*max_sequence\n",
    "            else:\n",
    "                target_string[i] = target_string[i][0:max_sequence]\n",
    "    num_rows = len(target_string)\n",
    "    flat_list = [item for sublist in target_string for item in sublist]\n",
    "    target_vector = onehot_model.encode_label(flat_list)\n",
    "    target_vector = target_vector.reshape(-1, max_sequence)\n",
    "    return target_vector, onehot_model\n"
   ]
  },
  {
   "cell_type": "code",
   "execution_count": 4,
   "metadata": {
    "collapsed": true
   },
   "outputs": [],
   "source": [
    "import gensim\n",
    "import os\n",
    "from gensim.models.word2vec import Word2Vec, PathLineSentences\n",
    "import numpy as np\n",
    "def get_train_list(source_folder, target_folder):\n",
    "    source_string = []\n",
    "    target_string = []\n",
    "    for filename in os.listdir(source_folder):\n",
    "        target_file_name = \"targetH_\" + \"_\".join(filename.split(\"_\")[1:])\n",
    "        if os.path.exists(os.path.join(target_folder, target_file_name)):\n",
    "            with open(os.path.join(source_folder, filename), 'r', encoding=\"utf-8\") as source:\n",
    "                with open(os.path.join(target_folder, target_file_name), 'r', encoding=\"utf-8\") as target:\n",
    "                    for source_line, target_line in zip(source.readlines(), target.readlines()):\n",
    "                        s_line = source_line.split()\n",
    "                        t_line = target_line.split()\n",
    "                        if len(s_line) == len(t_line):\n",
    "                            source_string.append(s_line)\n",
    "                            target_string.append(t_line)\n",
    "    print('源数据读取完毕，共' + str(len(source_string)) + '行')\n",
    "    return source_string, target_string\n"
   ]
  },
  {
   "cell_type": "code",
   "execution_count": 5,
   "metadata": {
    "collapsed": true
   },
   "outputs": [],
   "source": [
    "def get_vec_from_corpus(corpus, size=128, min_count=2, save_path=os.path.join(\"./data/ner_word2vec_model\")):\n",
    "    vec_model = Word2Vec(sentences=corpus, size=size, min_count=min_count)\n",
    "    vec_model.save(save_path)\n",
    "    return vec_model\n"
   ]
  },
  {
   "cell_type": "code",
   "execution_count": 6,
   "metadata": {
    "collapsed": true
   },
   "outputs": [],
   "source": [
    "def lstm_crf(X):\n",
    "    embedding_size = 128\n",
    "    unit_num = 128\n",
    "    dropout_rate = None\n",
    "    output_size = 3\n",
    "    batch_size = 1\n",
    "    seq_length = 10\n",
    "    lr = 0.001\n",
    "\n",
    "    cell_forward = tf.nn.rnn_cell.BasicLSTMCell(unit_num)\n",
    "    cell_backward = tf.nn.rnn_cell.BasicLSTMCell(unit_num)\n",
    "    input_bi_lstm = tf.reshape(X, [batch_size, seq_length, embedding_size])\n",
    "    bi_outputs, bi_state = tf.nn.bidirectional_dynamic_rnn(cell_forward,\n",
    "                                    cell_backward, input_bi_lstm, dtype=tf.float32)\n",
    "\n",
    "    bi_output = tf.concat(bi_outputs, axis=2)\n",
    "\n",
    "    W = tf.get_variable(\"projection_w\", [2 * unit_num, output_size])\n",
    "    b = tf.get_variable(\"projection_b\", [output_size])\n",
    "    x_reshape = tf.reshape(bi_output, [-1, 2 * unit_num])\n",
    "    projection = tf.matmul(x_reshape, W) + b\n",
    "    outputs = tf.reshape(projection, [batch_size, seq_length, output_size])\n",
    "    return outputs\n"
   ]
  },
  {
   "cell_type": "code",
   "execution_count": 7,
   "metadata": {
    "collapsed": true
   },
   "outputs": [],
   "source": [
    "def train(feature, target, save_path, iter_num):\n",
    "    embedding_size = 128\n",
    "    unit_num = 128\n",
    "    dropout_rate = None\n",
    "    output_size = 3\n",
    "    batch_size = 1\n",
    "    seq_length = 10\n",
    "    lr = 0.001\n",
    "\n",
    "    X = tf.placeholder(tf.float32, shape=[batch_size, seq_length*embedding_size])\n",
    "    Y = tf.placeholder(tf.int32, shape=[batch_size, seq_length])\n",
    "    pred = lstm_crf(X)\n",
    "    real_y = tf.reshape(Y, [batch_size, seq_length])\n",
    "    log_likelihood, transition_params = tf.contrib.crf.crf_log_likelihood(pred, real_y, tf.convert_to_tensor(batch_size * [seq_length], dtype=tf.int32))\n",
    "    sess = tf.Session()\n",
    "    # Add a training op to tune the parameters.\n",
    "    loss = tf.reduce_mean(-log_likelihood)\n",
    "    train_op = tf.train.AdamOptimizer(learning_rate=lr).minimize(loss)\n",
    "    saver = tf.train.Saver(tf.global_variables(), max_to_keep=15)\n",
    "    sess.run(tf.global_variables_initializer())\n",
    "    total_loss = []\n",
    "\n",
    "    for i in range(iter_num):\n",
    "        for step in range(int(feature.shape[0]/batch_size)-1):\n",
    "            tf_unary_scores, tf_transition_params, _, loss_ = sess.run([pred, transition_params, train_op, loss],\n",
    "                                                                       feed_dict={X: feature[step*batch_size:(step+1)*batch_size],\n",
    "                                                                                  Y: target[step*batch_size:(step+1)*batch_size]})\n",
    "        total_loss.append(loss_)\n",
    "        if i % 50 == 0:\n",
    "            print(\"迭代第：\" + str(i) + \"次， Loss为：\" + str(loss_))\n",
    "        if i % 100 == 0:\n",
    "            print(\"保存模型：\", saver.save(sess, save_path, global_step=i))\n",
    "    return total_loss"
   ]
  },
  {
   "cell_type": "code",
   "execution_count": 8,
   "metadata": {
    "scrolled": true
   },
   "outputs": [
    {
     "name": "stdout",
     "output_type": "stream",
     "text": [
      "源数据读取完毕，共2行\n",
      "[['初见', '安迪苏', '(', 'SH', '：', '600299', ')', '是', '前', '阵子', '看到', '这样', '一则', '新闻', '：6', '月', '30', '日讯', '，', '坊间', '传闻', '近两年', '的', '中国', '化工集团', '与', '中化', '集团', '合', '并', '交易', '终于', '坐实', '，', '中国', '化工', '董事长', '任建新', '宣布', '退休', '，', '中化', '集团董事长', '宁高宁', '担任', '合', '并', '后', '公司', '的', '董事长', '，', '中组部', '和', '国资委', '相关', '负责人', '到', '中国', '化工集团', '宣布', '了', '上述', '公司', '合', '并', '与', '人事安排', '。', '（', '财新网', '）根据', '公开', '信息', '可知', '，', '中国', '中化', '集团公司', '和', '中国', '化工', '集团公司', '旗下', '上市公司', '包括', '：', '中化国际', '(', 'SH', ':', '600500', ')', '、', '沈阳化工', '(', 'SZ', ':', '000698', ')', '、', '风神股份', '(', 'SH', ':', '600469', ')', '、', '江山股份', '(', 'SH', ':', '600389', ')', '、', '天科股份', '(', 'SH', ':', '600378', ')', '、', '扬农化工', '(', 'SH', ':', '600486', ')', '、', '沧州大化', '(', 'SH', ':', '600230', ')', '、', '天华院', '(', 'SH', ':', '600579', ')', '、', '安迪苏', '等', '。这', '其中', '提到', '的', '公司', '中', '，', '我', '只', '研究', '并', '买', '过', '扬农化工', '（', '目前', '已', '清仓', '）', '，', '其他', '如', '中化国际', '、', '江山', '等', '也', '看过', '一些', '，', '不太敢', '买', '。', '唯独', '这个', '安迪苏', '被', '我', '忽略', '掉', '了', '。这', '两', '天花', '时间', '读', '了', '安迪苏', '近些年', '的', '财报', '，', '不看', '不', '知道', '，', '一看', '吓一跳', '。', '那', '这个', '起着', '外资', '名字', '的', '企业', '到底', '是', '个', '怎样', '的', '企业', '呢', '？', '我', '简要', '分享', '几点', '重要信息', '抛砖引玉', '供', '大家', '参考', '。这个', '公司', '卖', '啥', '的', '，', '有', '替代', '风险', '吗', '？公司目前', '主营', '核心', '业务', '是', '功能性', '产品', '，', '营收', '占', '比', '77.92%', '，', '不过', '利润', '占', '比', '差不多', '69%', '。', '利润', '占', '比', '低于', '营收', '占', '比', '的', '主要', '原因', '是', '特种', '产品', '的', '高', '利润', '，', '这个', '后面', '再谈', '。那', '这个', '功能性', '产品', '是', '啥', '呢', '？', '我', '查询', '了', '年报', '，', '功能性', '产品', '指', '的', '是', '—', '—', '蛋氨酸', '、', '蛋氨酸', '羟基', '类似物', '、', '维生素', '、', '硫酸铵', '、', '硫酸钠', '。', '而', '占', '功能', '产品', '核心', '的', '就是', '蛋氨酸', '产品', '（', '包括', '固态', '和', '液态', '的', '）', '。那', '这个', '蛋氨酸', '又', '是', '干嘛', '的', '呢', '？', '简单', '点', '说', '，', '就是', '动物', '饲养', '中', '的', '营养', '添加剂', '。'], ['初见', '安迪苏', '(', 'SH', '：', '600299', ')', '是', '前', '阵子', '看到', '这样', '一则', '新闻', '：6', '月', '30', '日讯', '，', '坊间', '传闻', '近两年', '的', '中国', '化工集团', '与', '中化', '集团', '合', '并', '交易', '终于', '坐实', '，', '中国', '化工', '董事长', '任建新', '宣布', '退休', '，', '中化', '集团董事长', '宁高宁', '担任', '合', '并', '后', '公司', '的', '董事长', '，', '中组部', '和', '国资委', '相关', '负责人', '到', '中国', '化工集团', '宣布', '了', '上述', '公司', '合', '并', '与', '人事安排', '。', '（', '财新网', '）根据', '公开', '信息', '可知', '，', '中国', '中化', '集团公司', '和', '中国', '化工', '集团公司', '旗下', '上市公司', '包括', '：', '中化国际', '(', 'SH', ':', '600500', ')', '、', '沈阳化工', '(', 'SZ', ':', '000698', ')', '、', '风神股份', '(', 'SH', ':', '600469', ')', '、', '江山股份', '(', 'SH', ':', '600389', ')', '、', '天科股份', '(', 'SH', ':', '600378', ')', '、', '扬农化工', '(', 'SH', ':', '600486', ')', '、', '沧州大化', '(', 'SH', ':', '600230', ')', '、', '天华院', '(', 'SH', ':', '600579', ')', '、', '安迪苏', '等', '。这', '其中', '提到', '的', '公司', '中', '，', '我', '只', '研究', '并', '买', '过', '扬农化工', '（', '目前', '已', '清仓', '）', '，', '其他', '如', '中化国际', '、', '江山', '等', '也', '看过', '一些', '，', '不太敢', '买', '。', '唯独', '这个', '安迪苏', '被', '我', '忽略', '掉', '了', '。这', '两', '天花', '时间', '读', '了', '安迪苏', '近些年', '的', '财报', '，', '不看', '不', '知道', '，', '一看', '吓一跳', '。', '那', '这个', '起着', '外资', '名字', '的', '企业', '到底', '是', '个', '怎样', '的', '企业', '呢', '？', '我', '简要', '分享', '几点', '重要信息', '抛砖引玉', '供', '大家', '参考', '。这个', '公司', '卖', '啥', '的', '，', '有', '替代', '风险', '吗', '？公司目前', '主营', '核心', '业务', '是', '功能性', '产品', '，', '营收', '占', '比', '77.92%', '，', '不过', '利润', '占', '比', '差不多', '69%', '。', '利润', '占', '比', '低于', '营收', '占', '比', '的', '主要', '原因', '是', '特种', '产品', '的', '高', '利润', '，', '这个', '后面', '再谈', '。那', '这个', '功能性', '产品', '是', '啥', '呢', '？', '我', '查询', '了', '年报', '，', '功能性', '产品', '指', '的', '是', '—', '—', '蛋氨酸', '、', '蛋氨酸', '羟基', '类似物', '、', '维生素', '、', '硫酸铵', '、', '硫酸钠', '。', '而', '占', '功能', '产品', '核心', '的', '就是', '蛋氨酸', '产品', '（', '包括', '固态', '和', '液态', '的', '）', '。那', '这个', '蛋氨酸', '又', '是', '干嘛', '的', '呢', '？', '简单', '点', '说', '，', '就是', '动物', '饲养', '中', '的', '营养', '添加剂', '。']] [['O', 'B-ORG', 'O', 'O', 'O', 'O', 'O', 'O', 'O', 'O', 'O', 'O', 'O', 'O', 'O', 'O', 'O', 'O', 'O', 'O', 'O', 'O', 'O', 'B-ORG', 'I-ORG', 'O', 'B-ORG', 'I-ORG', 'O', 'O', 'O', 'O', 'O', 'O', 'O', 'O', 'O', 'O', 'O', 'O', 'O', 'O', 'O', 'O', 'O', 'O', 'O', 'O', 'O', 'O', 'O', 'O', 'O', 'O', 'O', 'O', 'O', 'O', 'B-ORG', 'I-ORG', 'O', 'O', 'O', 'O', 'O', 'O', 'O', 'O', 'O', 'O', 'O', 'O', 'O', 'O', 'O', 'O', 'B-ORG', 'I-ORG', 'I-ORG', 'O', 'B-ORG', 'I-ORG', 'I-ORG', 'O', 'O', 'O', 'O', 'B-ORG', 'O', 'O', 'O', 'O', 'O', 'O', 'B-ORG', 'O', 'O', 'O', 'O', 'O', 'O', 'B-ORG', 'O', 'O', 'O', 'O', 'O', 'O', 'B-ORG', 'O', 'O', 'O', 'O', 'O', 'O', 'B-ORG', 'O', 'O', 'O', 'O', 'O', 'O', 'B-ORG', 'O', 'O', 'O', 'O', 'O', 'O', 'B-ORG', 'O', 'O', 'O', 'O', 'O', 'O', 'B-ORG', 'O', 'O', 'O', 'O', 'O', 'O', 'B-ORG', 'O', 'O', 'O', 'O', 'O', 'O', 'O', 'O', 'O', 'O', 'O', 'O', 'O', 'O', 'B-ORG', 'O', 'O', 'O', 'O', 'O', 'O', 'O', 'O', 'B-ORG', 'O', 'O', 'O', 'O', 'O', 'O', 'O', 'O', 'O', 'O', 'O', 'O', 'B-ORG', 'O', 'O', 'O', 'O', 'O', 'O', 'O', 'O', 'O', 'O', 'O', 'B-ORG', 'O', 'O', 'O', 'O', 'O', 'O', 'O', 'O', 'O', 'O', 'O', 'O', 'O', 'O', 'O', 'O', 'O', 'O', 'O', 'O', 'O', 'O', 'O', 'O', 'O', 'O', 'O', 'O', 'O', 'O', 'O', 'O', 'O', 'O', 'O', 'O', 'O', 'O', 'O', 'O', 'O', 'O', 'O', 'O', 'O', 'O', 'O', 'O', 'O', 'O', 'O', 'O', 'O', 'O', 'O', 'O', 'O', 'O', 'O', 'O', 'O', 'O', 'O', 'O', 'O', 'O', 'O', 'O', 'O', 'O', 'O', 'O', 'O', 'O', 'O', 'O', 'O', 'O', 'O', 'O', 'O', 'O', 'O', 'O', 'O', 'O', 'O', 'O', 'O', 'O', 'O', 'O', 'O', 'O', 'O', 'O', 'O', 'O', 'O', 'O', 'O', 'O', 'O', 'O', 'O', 'O', 'O', 'O', 'O', 'O', 'O', 'O', 'O', 'O', 'O', 'O', 'O', 'O', 'O', 'O', 'O', 'O', 'O', 'O', 'O', 'O', 'O', 'O', 'O', 'O', 'O', 'O', 'O', 'O', 'O', 'O', 'O', 'O', 'O', 'O', 'O', 'O', 'O', 'O', 'O', 'O', 'O', 'O', 'O', 'O', 'O', 'O', 'O', 'O'], ['O', 'B-ORG', 'O', 'O', 'O', 'O', 'O', 'O', 'O', 'O', 'O', 'O', 'O', 'O', 'O', 'O', 'O', 'O', 'O', 'O', 'O', 'O', 'O', 'B-ORG', 'I-ORG', 'O', 'B-ORG', 'I-ORG', 'O', 'O', 'O', 'O', 'O', 'O', 'O', 'O', 'O', 'O', 'O', 'O', 'O', 'O', 'O', 'O', 'O', 'O', 'O', 'O', 'O', 'O', 'O', 'O', 'O', 'O', 'O', 'O', 'O', 'O', 'B-ORG', 'I-ORG', 'O', 'O', 'O', 'O', 'O', 'O', 'O', 'O', 'O', 'O', 'O', 'O', 'O', 'O', 'O', 'O', 'B-ORG', 'I-ORG', 'I-ORG', 'O', 'B-ORG', 'I-ORG', 'I-ORG', 'O', 'O', 'O', 'O', 'B-ORG', 'O', 'O', 'O', 'O', 'O', 'O', 'B-ORG', 'O', 'O', 'O', 'O', 'O', 'O', 'B-ORG', 'O', 'O', 'O', 'O', 'O', 'O', 'B-ORG', 'O', 'O', 'O', 'O', 'O', 'O', 'B-ORG', 'O', 'O', 'O', 'O', 'O', 'O', 'B-ORG', 'O', 'O', 'O', 'O', 'O', 'O', 'B-ORG', 'O', 'O', 'O', 'O', 'O', 'O', 'B-ORG', 'O', 'O', 'O', 'O', 'O', 'O', 'B-ORG', 'O', 'O', 'O', 'O', 'O', 'O', 'O', 'O', 'O', 'O', 'O', 'O', 'O', 'O', 'B-ORG', 'O', 'O', 'O', 'O', 'O', 'O', 'O', 'O', 'B-ORG', 'O', 'O', 'O', 'O', 'O', 'O', 'O', 'O', 'O', 'O', 'O', 'O', 'B-ORG', 'O', 'O', 'O', 'O', 'O', 'O', 'O', 'O', 'O', 'O', 'O', 'B-ORG', 'O', 'O', 'O', 'O', 'O', 'O', 'O', 'O', 'O', 'O', 'O', 'O', 'O', 'O', 'O', 'O', 'O', 'O', 'O', 'O', 'O', 'O', 'O', 'O', 'O', 'O', 'O', 'O', 'O', 'O', 'O', 'O', 'O', 'O', 'O', 'O', 'O', 'O', 'O', 'O', 'O', 'O', 'O', 'O', 'O', 'O', 'O', 'O', 'O', 'O', 'O', 'O', 'O', 'O', 'O', 'O', 'O', 'O', 'O', 'O', 'O', 'O', 'O', 'O', 'O', 'O', 'O', 'O', 'O', 'O', 'O', 'O', 'O', 'O', 'O', 'O', 'O', 'O', 'O', 'O', 'O', 'O', 'O', 'O', 'O', 'O', 'O', 'O', 'O', 'O', 'O', 'O', 'O', 'O', 'O', 'O', 'O', 'O', 'O', 'O', 'O', 'O', 'O', 'O', 'O', 'O', 'O', 'O', 'O', 'O', 'O', 'O', 'O', 'O', 'O', 'O', 'O', 'O', 'O', 'O', 'O', 'O', 'O', 'O', 'O', 'O', 'O', 'O', 'O', 'O', 'O', 'O', 'O', 'O', 'O', 'O', 'O', 'O', 'O', 'O', 'O', 'O', 'O', 'O', 'O', 'O', 'O', 'O', 'O', 'O', 'O', 'O', 'O', 'O']]\n",
      "(1280,)\n",
      "(1280,)\n"
     ]
    },
    {
     "name": "stderr",
     "output_type": "stream",
     "text": [
      "C:\\ProgramData\\Anaconda3\\lib\\site-packages\\ipykernel_launcher.py:10: DeprecationWarning: Call to deprecated `__getitem__` (Method will be removed in 4.0.0, use self.wv.__getitem__() instead).\n",
      "  # Remove the CWD from sys.path while we load stuff.\n"
     ]
    },
    {
     "ename": "AttributeError",
     "evalue": "'list' object has no attribute 'shape'",
     "output_type": "error",
     "traceback": [
      "\u001b[1;31m---------------------------------------------------------------------------\u001b[0m",
      "\u001b[1;31mAttributeError\u001b[0m                            Traceback (most recent call last)",
      "\u001b[1;32m<ipython-input-8-7bead2b24499>\u001b[0m in \u001b[0;36m<module>\u001b[1;34m()\u001b[0m\n\u001b[0;32m      3\u001b[0m \u001b[0mvec_model\u001b[0m \u001b[1;33m=\u001b[0m \u001b[0mget_vec_from_corpus\u001b[0m\u001b[1;33m(\u001b[0m\u001b[0msource_string\u001b[0m\u001b[1;33m,\u001b[0m \u001b[0mmin_count\u001b[0m\u001b[1;33m=\u001b[0m\u001b[1;36m1\u001b[0m\u001b[1;33m)\u001b[0m\u001b[1;33m\u001b[0m\u001b[0m\n\u001b[0;32m      4\u001b[0m \u001b[0mtarget_vector\u001b[0m\u001b[1;33m,\u001b[0m \u001b[0monehot_model\u001b[0m \u001b[1;33m=\u001b[0m \u001b[0mget_target_label\u001b[0m\u001b[1;33m(\u001b[0m\u001b[0mtarget_string\u001b[0m\u001b[1;33m,\u001b[0m \u001b[0mmax_sequence\u001b[0m\u001b[1;33m=\u001b[0m\u001b[1;36m10\u001b[0m\u001b[1;33m)\u001b[0m\u001b[1;33m\u001b[0m\u001b[0m\n\u001b[1;32m----> 5\u001b[1;33m \u001b[0mfeature\u001b[0m \u001b[1;33m=\u001b[0m \u001b[0mget_train_feature\u001b[0m\u001b[1;33m(\u001b[0m\u001b[0msource_string\u001b[0m\u001b[1;33m,\u001b[0m \u001b[0mvec_model\u001b[0m\u001b[1;33m,\u001b[0m \u001b[0mmax_sequence\u001b[0m\u001b[1;33m=\u001b[0m\u001b[1;36m10\u001b[0m\u001b[1;33m)\u001b[0m\u001b[1;33m\u001b[0m\u001b[0m\n\u001b[0m",
      "\u001b[1;32m<ipython-input-2-a885aad69c25>\u001b[0m in \u001b[0;36mget_train_feature\u001b[1;34m(source_string, vec_model, max_sequence)\u001b[0m\n\u001b[0;32m     18\u001b[0m         \u001b[0mprint\u001b[0m\u001b[1;33m(\u001b[0m\u001b[0mrow_vector\u001b[0m\u001b[1;33m.\u001b[0m\u001b[0mshape\u001b[0m\u001b[1;33m)\u001b[0m\u001b[1;33m\u001b[0m\u001b[0m\n\u001b[0;32m     19\u001b[0m         \u001b[0mrow_vector_list\u001b[0m\u001b[1;33m.\u001b[0m\u001b[0mappend\u001b[0m\u001b[1;33m(\u001b[0m\u001b[0mrow_vector\u001b[0m\u001b[1;33m)\u001b[0m\u001b[1;33m\u001b[0m\u001b[0m\n\u001b[1;32m---> 20\u001b[1;33m     \u001b[0mprint\u001b[0m\u001b[1;33m(\u001b[0m\u001b[0mrow_vector_list\u001b[0m\u001b[1;33m.\u001b[0m\u001b[0mshape\u001b[0m\u001b[1;33m)\u001b[0m\u001b[1;33m\u001b[0m\u001b[0m\n\u001b[0m\u001b[0;32m     21\u001b[0m     \u001b[1;32mreturn\u001b[0m \u001b[0mnp\u001b[0m\u001b[1;33m.\u001b[0m\u001b[0mmatrix\u001b[0m\u001b[1;33m(\u001b[0m\u001b[0mrow_vector_list\u001b[0m\u001b[1;33m)\u001b[0m\u001b[1;33m\u001b[0m\u001b[0m\n",
      "\u001b[1;31mAttributeError\u001b[0m: 'list' object has no attribute 'shape'"
     ]
    }
   ],
   "source": [
    "source_string, target_string = get_train_list(\"./data/source\",\"./data/target\")\n",
    "print(source_string, target_string)\n",
    "vec_model = get_vec_from_corpus(source_string, min_count=1)\n",
    "target_vector, onehot_model = get_target_label(target_string, max_sequence=10)\n",
    "feature = get_train_feature(source_string, vec_model, max_sequence=10)"
   ]
  },
  {
   "cell_type": "code",
   "execution_count": 9,
   "metadata": {
    "scrolled": false
   },
   "outputs": [
    {
     "name": "stdout",
     "output_type": "stream",
     "text": [
      "迭代第：0次， Loss为：11.740511\n",
      "保存模型： ./model/bilstm-0\n",
      "迭代第：50次， Loss为：2.141983\n",
      "迭代第：100次， Loss为：1.4087524\n",
      "保存模型： ./model/bilstm-100\n",
      "迭代第：150次， Loss为：0.48908234\n",
      "迭代第：200次， Loss为：0.13040161\n",
      "保存模型： ./model/bilstm-200\n",
      "迭代第：250次， Loss为：0.056274414\n",
      "迭代第：300次， Loss为：0.030456543\n",
      "保存模型： ./model/bilstm-300\n",
      "迭代第：350次， Loss为：0.019577026\n",
      "迭代第：400次， Loss为：0.013381958\n",
      "保存模型： ./model/bilstm-400\n",
      "迭代第：450次， Loss为：0.009674072\n"
     ]
    }
   ],
   "source": [
    "tf.reset_default_graph()\n",
    "total_loss = train(feature, target_vector, \"./model/bilstm\", 500)"
   ]
  },
  {
   "cell_type": "code",
   "execution_count": 10,
   "metadata": {
    "scrolled": true
   },
   "outputs": [
    {
     "data": {
      "image/png": "[encoded data removed]",
      "text/plain": [
       "<matplotlib.figure.Figure at 0x20032d58710>"
      ]
     },
     "metadata": {},
     "output_type": "display_data"
    }
   ],
   "source": [
    "import matplotlib.pyplot as plt\n",
    "plt.figure()\n",
    "plt.plot(list(range(len(total_loss))), total_loss, color='b')\n",
    "plt.show()"
   ]
  },
  {
   "cell_type": "code",
   "execution_count": null,
   "metadata": {
    "collapsed": true
   },
   "outputs": [],
   "source": []
  }
 ],
 "metadata": {
  "kernelspec": {
   "display_name": "Python 3",
   "language": "python",
   "name": "python3"
  },
  "language_info": {
   "codemirror_mode": {
    "name": "ipython",
    "version": 3
   },
   "file_extension": ".py",
   "mimetype": "text/x-python",
   "name": "python",
   "nbconvert_exporter": "python",
   "pygments_lexer": "ipython3",
   "version": "3.6.3"
  }
 },
 "nbformat": 4,
 "nbformat_minor": 2
}
